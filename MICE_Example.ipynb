{
 "cells": [
  {
   "cell_type": "code",
   "execution_count": 1,
   "metadata": {},
   "outputs": [],
   "source": [
    "import os\n",
    "import re\n",
    "import numpy as np\n",
    "import torch.optim as optim\n",
    "from matplotlib import pyplot as plt\n",
    "import numba\n",
    "import torch\n",
    "import torch.nn as nn\n",
    "import torch.nn.functional as F\n",
    "import torch.autograd as autograd"
   ]
  },
  {
   "cell_type": "markdown",
   "metadata": {},
   "source": [
    "# MICE flow:\n",
    "* We load the data on which we want to compute the mutual information\n",
    "* We create a neural network that can compute that loss\n",
    "* We train the network and estimate the mutual information using some kind of averaging\n",
    "* We can then transfer the same network for different temperatures and sub shapes"
   ]
  },
  {
   "cell_type": "markdown",
   "metadata": {},
   "source": [
    "# Loading the data:\n",
    "Here we will use the 2d ising data we have as an example\n",
    "Our data was save as sequence of bits where each bit is a spin, 1 for up and 0 for down, we therefore do some manipulation to the file, using numba to fasten the computation"
   ]
  },
  {
   "cell_type": "code",
   "execution_count": 2,
   "metadata": {},
   "outputs": [],
   "source": [
    "import numba\n",
    "\n",
    "@numba.jit(nopython=True)\n",
    "def bits_array_to_bytes_array(bits_array):\n",
    "    bytes_array_shape = (bits_array.shape[0], bits_array.shape[1], bits_array.shape[2]*8)\n",
    "    bytes_array = np.zeros(bytes_array_shape, dtype=np.uint8)\n",
    "    for i in range(bits_array.shape[0]):\n",
    "        for j in range(bits_array.shape[1]):\n",
    "            for k in range(bits_array.shape[2]):\n",
    "                for bit_idx in range(8):\n",
    "                    byte = bits_array[i,j,k]\n",
    "                    bytes_array[i,j,k*8 + bit_idx] = np.uint8(byte & (np.uint8(1) << bit_idx) != 0)\n",
    "    return bytes_array\n",
    "\n",
    "def file_to_ising_array(filename):\n",
    "    size = 64\n",
    "    frames = 10000\n",
    "    all_spins = np.fromfile(filename, dtype=np.uint8)\n",
    "    return bits_array_to_bytes_array(np.reshape(all_spins, (frames, size, int(size/8))))\n",
    "\n",
    "def get_ising_matrices(T, directory):\n",
    "    for filename in sorted(os.listdir(directory)):\n",
    "        sim_T = float(re.findall(\"\\d+\\.\\d+\", filename)[0])\n",
    "        if sim_T == T:\n",
    "            ising_matrices = file_to_ising_array(os.path.join(directory,filename))\n",
    "            return ising_matrices\n",
    "\n",
    "directory = r'ising_2d'\n",
    "T = 4\n",
    "ising_matrices = get_ising_matrices(T, directory)\n"
   ]
  },
  {
   "cell_type": "markdown",
   "metadata": {},
   "source": [
    "# Data preprocessing\n",
    "Before using the data, we want to make sure it is:\n",
    "* Centered around 0 \n",
    "* floats\n",
    "* We can also expand our dataset by adding mirrors of our data"
   ]
  },
  {
   "cell_type": "code",
   "execution_count": 3,
   "metadata": {},
   "outputs": [],
   "source": [
    "ising_matrices = np.array(ising_matrices, dtype=np.float32)\n",
    "ising_matrices -= 0.5\n",
    "ising_matrices *= 2\n",
    "ising_matrices = np.concatenate([ising_matrices, np.flip(ising_matrices, axis=1), np.flip(ising_matrices, axis=2)])"
   ]
  },
  {
   "cell_type": "code",
   "execution_count": 4,
   "metadata": {},
   "outputs": [
    {
     "data": {
      "text/plain": [
       "(30000, 64, 64)"
      ]
     },
     "execution_count": 4,
     "metadata": {},
     "output_type": "execute_result"
    }
   ],
   "source": [
    "\n",
    "ising_matrices.shape"
   ]
  },
  {
   "cell_type": "markdown",
   "metadata": {},
   "source": [
    "We would now split the data in to train and test, and get all the subsystems of size (16,16) of our simulation"
   ]
  },
  {
   "cell_type": "code",
   "execution_count": 5,
   "metadata": {},
   "outputs": [],
   "source": [
    "# This is not an efficient implementation, but it is good enough\n",
    "def get_all_sub_matrices(matrices, sub_shape, step=1):\n",
    "    if len(matrices.shape) != 3:\n",
    "        raise Exception('Works only for 3d right now')\n",
    "    if(len(sub_shape) != 2):\n",
    "        raise Exception('Works only for 3d right now')\n",
    "        \n",
    "    all_subs = []\n",
    "    max_i = matrices.shape[1] - sub_shape[0] + 1\n",
    "    max_j = matrices.shape[2] - sub_shape[1] + 1\n",
    "    for i in range(0, max_i, step):\n",
    "        for j in range(0, max_j, step):\n",
    "            sub_matrix = matrices[:, i:i+sub_shape[0], j:j+sub_shape[1]]\n",
    "            all_subs.append(sub_matrix)\n",
    "    return np.concatenate(all_subs, axis=0)"
   ]
  },
  {
   "cell_type": "code",
   "execution_count": 6,
   "metadata": {},
   "outputs": [
    {
     "name": "stdout",
     "output_type": "stream",
     "text": [
      "(750000, 16, 16)\n"
     ]
    }
   ],
   "source": [
    "subsystem_shape = (16,16)\n",
    "ising_subsystems = get_all_sub_matrices(ising_matrices, subsystem_shape, step=10)\n",
    "print(ising_subsystems.shape)"
   ]
  },
  {
   "cell_type": "code",
   "execution_count": 7,
   "metadata": {},
   "outputs": [
    {
     "name": "stdout",
     "output_type": "stream",
     "text": [
      "(562500, 16, 16)\n"
     ]
    }
   ],
   "source": [
    "from sklearn.model_selection import train_test_split \n",
    "train_data, test_data = train_test_split(ising_subsystems)\n",
    "print(train_data.shape)"
   ]
  },
  {
   "cell_type": "markdown",
   "metadata": {},
   "source": [
    "# MICE\n",
    "Now that we have our data we can create a neural network and estimate the mutual information\n",
    "Here we will create a convolutional net with the following layers:\n",
    "* 8 3x3 filters with stride 1 and no padding followed by RELU and max pooling\n",
    "* 16 3x3 filters with stride 2 and no padding followed by RELU and max pooling\n",
    "* A dropout layer\n",
    "* Two fully connected layers of with shape input_size x input_size/10 and input_size/10 x 1"
   ]
  },
  {
   "cell_type": "code",
   "execution_count": 8,
   "metadata": {},
   "outputs": [],
   "source": [
    "class MiceConv(nn.Module):\n",
    "    def __init__(self, input_size):\n",
    "        super().__init__()\n",
    "\n",
    "        self.layer1 =  nn.Sequential(nn.Conv2d(1, 8, kernel_size=3, stride=1, padding=0),\n",
    "                                     nn.ReLU())\n",
    "        \n",
    "\n",
    "        self.layer2 = nn.Sequential(nn.Conv2d(8, 16, kernel_size=3, stride=1, padding=0),\n",
    "                                    nn.ReLU(),\n",
    "                                    nn.MaxPool2d(kernel_size=2, stride=2))\n",
    "\n",
    "        self.drop_out = nn.Dropout(p=0.3)\n",
    "        \n",
    "        self.fc1 = nn.Linear(input_size, int(input_size/2))\n",
    "        self.fc2 = nn.Linear( int(input_size/2),  1)\n",
    "        \n",
    "        print('Finished init')\n",
    "\n",
    "    def forward(self, data):\n",
    "        output = self.layer1(data)\n",
    "        output = self.layer2(output)\n",
    "\n",
    "        output = self.drop_out(output)\n",
    "        output = output.reshape(output.size(0), -1)\n",
    "\n",
    "        output = self.fc1(output)\n",
    "        output = F.relu(output)\n",
    "        output = self.fc2(output)\n",
    "\n",
    "        return output\n",
    "\n",
    "def mutual_information(joint, marginal, mice_net):\n",
    "    \"\"\"Estimate the mutual information according to a network\"\"\"\n",
    "    t = mice_net(joint)\n",
    "    et = torch.exp(mice_net(marginal))\n",
    "    mi_lb = torch.mean(t) - torch.log(torch.mean(et))\n",
    "    return mi_lb, t, et\n",
    "\n",
    "def learn_mice(batch, mice_net, mice_net_optim, ma_et, ma_rate=0.01, val=False):\n",
    "    joint, marginal = batch\n",
    "    joint = torch.from_numpy(joint).float().cuda()\n",
    "    if len(joint.shape) == 3:\n",
    "        joint = torch.unsqueeze(joint, 1)\n",
    "    marginal = torch.from_numpy(marginal).float().cuda()\n",
    "    if len(marginal.shape) == 3:\n",
    "        marginal = torch.unsqueeze(marginal, 1)\n",
    "\n",
    "    mi_lb, t, et = mutual_information(joint, marginal, mice_net)\n",
    "    ma_et = (1 - ma_rate) * ma_et + ma_rate * torch.mean(et)\n",
    "    \n",
    "    if val:\n",
    "        # We don't compute gradients on validation\n",
    "        return mi_lb\n",
    "\n",
    "    # unbiasing use moving average\n",
    "    loss = -(torch.mean(t) - (1 / ma_et.mean()).detach() * torch.mean(et))\n",
    "    \n",
    "    mice_net_optim.zero_grad()\n",
    "    autograd.backward(loss)\n",
    "    mice_net_optim.step()\n",
    "    return mi_lb, ma_et\n",
    "\n",
    "\n",
    "def train(data, mice_net,mice_net_optim, val_data, batch_size=100,\n",
    "          iter_num=int(5e+3), log_freq=int(1e+3)):\n",
    "    # data is x or y\n",
    "    result = list()\n",
    "    val_result = list()\n",
    "    ma_et = 1.\n",
    "    for i in range(iter_num):\n",
    "        val_batch=sample_batch(val_data,batch_size=batch_size)\\\n",
    "                      , sample_batch(val_data,batch_size=batch_size,sample_mode='marginal')\n",
    "        val_mi_lb = learn_mice(val_batch, mice_net, mice_net_optim, ma_et, val=True)\n",
    "        val_result.append(val_mi_lb.detach().cpu().numpy())\n",
    "\n",
    "        \n",
    "        batch = sample_batch(data,batch_size=batch_size)\\\n",
    "        , sample_batch(data,batch_size=batch_size,sample_mode='marginal')\n",
    "        mi_lb, ma_et = learn_mice(batch, mice_net, mice_net_optim, ma_et,  val=False)\n",
    "        result.append(mi_lb.detach().cpu().numpy())\n",
    "        if (i+1)%(log_freq)==0:\n",
    "            print('MI for train {}, val {} at step {} '.format(result[-1], val_result[-1], i+1))\n",
    "\n",
    "    return (result, val_result)\n",
    "\n",
    "@numba.jit(nopython=True)\n",
    "def sample_batch(data, batch_size=100, sample_mode='joint'):\n",
    "    indices_range =  np.array([i for i in range(data.shape[0])])\n",
    "    if sample_mode == 'joint':\n",
    "        index = np.random.choice(indices_range, size=batch_size, replace=False)\n",
    "        batch = data[index]\n",
    "    else:\n",
    "        batch_half_size = int(data.shape[1] / 2)\n",
    "        joint_index = np.random.choice(indices_range, size=batch_size, replace=False)\n",
    "        marginal_index = np.random.choice(indices_range, size=batch_size, replace=False)\n",
    "            \n",
    "        if len(data.shape) == 3:\n",
    "            half1 = np.copy(data[joint_index][:, :batch_half_size, :])\n",
    "            half1r = half1.reshape(-1, batch_half_size, data.shape[2])\n",
    "            half2 = np.copy(data[marginal_index][:, batch_half_size:, :])\n",
    "            half2r = half2.reshape(-1, batch_half_size, data.shape[2])\n",
    "            \n",
    "        else:\n",
    "            raise Exception('Not a legal data shape')\n",
    "        batch = np.concatenate((half1r, half2r), axis=1)\n",
    "\n",
    "    return batch"
   ]
  },
  {
   "cell_type": "code",
   "execution_count": 9,
   "metadata": {},
   "outputs": [
    {
     "name": "stdout",
     "output_type": "stream",
     "text": [
      "Finished init\n"
     ]
    }
   ],
   "source": [
    "input_size = 576\n",
    "mice_net = MiceConv(input_size=input_size).cuda()\n",
    "mice_net_optim = optim.Adam(mice_net.parameters(), lr=7e-5, weight_decay=1e-4)"
   ]
  },
  {
   "cell_type": "markdown",
   "metadata": {},
   "source": [
    "# Training"
   ]
  },
  {
   "cell_type": "code",
   "execution_count": 10,
   "metadata": {},
   "outputs": [
    {
     "name": "stdout",
     "output_type": "stream",
     "text": [
      "MI for train 0.303849995136261, val 0.37032100558280945 at step 1000 \n",
      "MI for train 0.3151412606239319, val 0.33270543813705444 at step 2000 \n",
      "MI for train 0.4277085065841675, val 0.5665957927703857 at step 3000 \n",
      "MI for train 0.3160305321216583, val 0.36294955015182495 at step 4000 \n",
      "MI for train 0.3638940453529358, val 0.5631616115570068 at step 5000 \n",
      "MI for train 0.3657926321029663, val 0.3816545605659485 at step 6000 \n",
      "MI for train 0.538887619972229, val 0.34778204560279846 at step 7000 \n",
      "MI for train 0.18629972636699677, val 0.4354630708694458 at step 8000 \n",
      "MI for train 0.4392240643501282, val 0.5900084972381592 at step 9000 \n",
      "MI for train 0.28703534603118896, val 0.3602432608604431 at step 10000 \n",
      "MI for train 0.36039823293685913, val 0.2459593117237091 at step 11000 \n",
      "MI for train 0.31463831663131714, val 0.3397006392478943 at step 12000 \n",
      "MI for train 0.43298470973968506, val 0.3933597803115845 at step 13000 \n",
      "MI for train 0.23400773108005524, val 0.48924025893211365 at step 14000 \n",
      "MI for train 0.2821297347545624, val 0.49922534823417664 at step 15000 \n",
      "MI for train 0.30294179916381836, val 0.46233493089675903 at step 16000 \n",
      "MI for train 0.2964496910572052, val 0.4661822021007538 at step 17000 \n",
      "MI for train 0.5471298098564148, val 0.3226415514945984 at step 18000 \n",
      "MI for train 0.5279481410980225, val 0.44141605496406555 at step 19000 \n",
      "MI for train 0.498166024684906, val 0.4527910649776459 at step 20000 \n",
      "MI for train 0.5609564185142517, val 0.41891103982925415 at step 21000 \n",
      "MI for train 0.46171945333480835, val 0.42399862408638 at step 22000 \n",
      "MI for train 0.32307168841362, val 0.28198397159576416 at step 23000 \n",
      "MI for train 0.5409862399101257, val 0.3805791735649109 at step 24000 \n",
      "MI for train 0.4373528063297272, val 0.5314688086509705 at step 25000 \n",
      "MI for train 0.4061518907546997, val 0.41966313123703003 at step 26000 \n",
      "MI for train 0.5360214710235596, val 0.5084456205368042 at step 27000 \n",
      "MI for train 0.5760402679443359, val 0.2627013027667999 at step 28000 \n",
      "MI for train 0.40451109409332275, val 0.3504065275192261 at step 29000 \n",
      "MI for train 0.32188665866851807, val 0.5285857915878296 at step 30000 \n"
     ]
    }
   ],
   "source": [
    "result, result_val = train(train_data,mice_net,mice_net_optim, val_data=test_data, batch_size=192,\n",
    "                       iter_num=int(3e+4))"
   ]
  },
  {
   "cell_type": "markdown",
   "metadata": {},
   "source": [
    "# MICE output\n",
    "We can now look at the output of MICE, as you will see, it is very noisy"
   ]
  },
  {
   "cell_type": "code",
   "execution_count": 11,
   "metadata": {},
   "outputs": [],
   "source": [
    "import pandas as pd\n",
    "import seaborn as sns\n",
    "sns.set(style='dark')"
   ]
  },
  {
   "cell_type": "code",
   "execution_count": 12,
   "metadata": {},
   "outputs": [],
   "source": [
    "df = pd.DataFrame({'output': np.array(result), 'output_validation': np.array(result_val)})"
   ]
  },
  {
   "cell_type": "code",
   "execution_count": 13,
   "metadata": {},
   "outputs": [
    {
     "data": {
      "text/plain": [
       "<seaborn.axisgrid.FacetGrid at 0x7f5a21796190>"
      ]
     },
     "execution_count": 13,
     "metadata": {},
     "output_type": "execute_result"
    },
    {
     "data": {
      "image/png": "[encoded data removed]",
      "text/plain": [
       "<Figure size 495.85x360 with 1 Axes>"
      ]
     },
     "metadata": {},
     "output_type": "display_data"
    }
   ],
   "source": [
    "sns.relplot(data=df, kind='line')"
   ]
  },
  {
   "cell_type": "markdown",
   "metadata": {},
   "source": [
    "Using an exponential moving average we can make the results look much better.\n",
    "We use the formula $e_n = e_{n-1} + \\alpha({data}_n - e_{n-1})$"
   ]
  },
  {
   "cell_type": "code",
   "execution_count": 14,
   "metadata": {},
   "outputs": [],
   "source": [
    "def numpy_ewma(data, window):\n",
    "    returnArray = np.empty((data.shape[0]))\n",
    "    returnArray.fill(np.nan)\n",
    "    e = data[0]\n",
    "    alpha = 2 / float(window + 1)\n",
    "    for s in range(data.shape[0]):\n",
    "        e =  ((data[s]-e) *alpha ) + e\n",
    "        returnArray[s] = e\n",
    "    return returnArray\n",
    "\n",
    "def ma(a, window_size=100):\n",
    "    return [np.mean(a[i:i+window_size]) for i in range(0,len(a)-window_size)]"
   ]
  },
  {
   "cell_type": "code",
   "execution_count": 15,
   "metadata": {},
   "outputs": [],
   "source": [
    "df['output_ewma'] = numpy_ewma(df['output'], 2000)\n",
    "df['output_validation_ewma'] = numpy_ewma(df['output_validation'], 2000)\n",
    "df['x_axis'] = np.arange(len(result))"
   ]
  },
  {
   "cell_type": "code",
   "execution_count": 16,
   "metadata": {},
   "outputs": [
    {
     "data": {
      "text/plain": [
       "<seaborn.axisgrid.FacetGrid at 0x7f59a16aeb50>"
      ]
     },
     "execution_count": 16,
     "metadata": {},
     "output_type": "execute_result"
    },
    {
     "data": {
      "image/png": "[encoded data removed]",
      "text/plain": [
       "<Figure size 534.725x360 with 1 Axes>"
      ]
     },
     "metadata": {},
     "output_type": "display_data"
    }
   ],
   "source": [
    "sns.relplot(data=df[['output_ewma', 'output_validation_ewma']], kind='line')"
   ]
  },
  {
   "cell_type": "markdown",
   "metadata": {},
   "source": [
    "# Transfer learning\n",
    "\n",
    "Let's see what happen if we try to use the same network already trained on a different temperature"
   ]
  },
  {
   "cell_type": "code",
   "execution_count": 17,
   "metadata": {},
   "outputs": [],
   "source": [
    "ising_matrices = get_ising_matrices(1.9, directory)\n",
    "ising_matrices = np.array(ising_matrices, dtype=np.float32)\n",
    "ising_matrices -= 0.5\n",
    "ising_matrices *= 2\n",
    "ising_matrices = np.concatenate([ising_matrices, np.flip(ising_matrices, axis=1), np.flip(ising_matrices, axis=2)])\n",
    "ising_subsystems = get_all_sub_matrices(ising_matrices, subsystem_shape, step=10)\n",
    "train_data, test_data = train_test_split(ising_subsystems)"
   ]
  },
  {
   "cell_type": "code",
   "execution_count": 18,
   "metadata": {},
   "outputs": [
    {
     "name": "stdout",
     "output_type": "stream",
     "text": [
      "MI for train 0.7078568935394287, val 0.6614373326301575 at step 1000 \n",
      "MI for train 0.8525310754776001, val 0.752349317073822 at step 2000 \n",
      "MI for train 0.8455016016960144, val 0.8078523874282837 at step 3000 \n",
      "MI for train 0.7766408920288086, val 0.8313015103340149 at step 4000 \n",
      "MI for train 0.7121773362159729, val 0.7826772928237915 at step 5000 \n",
      "MI for train 0.7270019054412842, val 0.9169280529022217 at step 6000 \n",
      "MI for train 0.732975423336029, val 0.7359781265258789 at step 7000 \n",
      "MI for train 0.8286480903625488, val 0.7274349331855774 at step 8000 \n",
      "MI for train 0.6873767971992493, val 0.7242211103439331 at step 9000 \n",
      "MI for train 0.7298944592475891, val 0.8354246616363525 at step 10000 \n"
     ]
    }
   ],
   "source": [
    "result_2, result_val_2 = train(train_data,mice_net,mice_net_optim, val_data=test_data, batch_size=192,\n",
    "                       iter_num=int(1e+4))"
   ]
  },
  {
   "cell_type": "code",
   "execution_count": 19,
   "metadata": {},
   "outputs": [
    {
     "data": {
      "text/plain": [
       "<seaborn.axisgrid.FacetGrid at 0x7f59a1674f90>"
      ]
     },
     "execution_count": 19,
     "metadata": {},
     "output_type": "execute_result"
    },
    {
     "data": {
      "image/png": "[encoded data removed]",
      "text/plain": [
       "<Figure size 360x360 with 1 Axes>"
      ]
     },
     "metadata": {},
     "output_type": "display_data"
    }
   ],
   "source": [
    "df = pd.DataFrame({'output': np.array(result_2), 'output_validation': np.array(result_val_2)})\n",
    "df['output_ewma'] = numpy_ewma(df['output'], 2000)\n",
    "df['output_validation_ewma'] = numpy_ewma(df['output_validation'], 2000)\n",
    "df['x_axis'] = np.arange(len(result_2))\n",
    "sns.relplot(data=df['output_ewma'], kind='line')"
   ]
  },
  {
   "cell_type": "markdown",
   "metadata": {},
   "source": [
    "# Multiple temperatures\n",
    "\n",
    "As we can see the network now reaches the plateau phase much faster, starting from a value of 0.7 already\n",
    "We can repeat the process for many temperatures as follow"
   ]
  },
  {
   "cell_type": "code",
   "execution_count": 20,
   "metadata": {},
   "outputs": [
    {
     "name": "stdout",
     "output_type": "stream",
     "text": [
      "Running on T 0.1\n",
      "MI for train 0.7242594957351685, val 0.6725268363952637 at step 1000 \n",
      "MI for train 0.6947703957557678, val 0.6801983714103699 at step 2000 \n",
      "MI for train 0.7545702457427979, val 0.7111790180206299 at step 3000 \n",
      "Running on T 0.2\n",
      "MI for train 0.6147463321685791, val 0.7922419309616089 at step 1000 \n",
      "MI for train 0.8020434975624084, val 0.8140621781349182 at step 2000 \n",
      "MI for train 0.6419298052787781, val 0.633459210395813 at step 3000 \n",
      "Running on T 0.3\n",
      "MI for train 0.780128538608551, val 0.6227448582649231 at step 1000 \n",
      "MI for train 0.8266534805297852, val 0.7035937309265137 at step 2000 \n",
      "MI for train 0.7801368236541748, val 0.575348436832428 at step 3000 \n",
      "Running on T 0.4\n",
      "MI for train 0.7035962343215942, val 0.7576625347137451 at step 1000 \n",
      "MI for train 0.7466118931770325, val 0.850750744342804 at step 2000 \n",
      "MI for train 0.682765543460846, val 0.6423582434654236 at step 3000 \n",
      "Running on T 0.5\n",
      "MI for train 0.7249690294265747, val 0.7141650915145874 at step 1000 \n",
      "MI for train 0.6623607873916626, val 0.7466156482696533 at step 2000 \n",
      "MI for train 0.7246009111404419, val 0.6627680063247681 at step 3000 \n",
      "Running on T 0.6\n",
      "MI for train 0.6423631310462952, val 0.7356925010681152 at step 1000 \n",
      "MI for train 0.7248753905296326, val 0.7466163635253906 at step 2000 \n",
      "MI for train 0.6724748015403748, val 0.7355170249938965 at step 3000 \n",
      "Running on T 0.7\n",
      "MI for train 0.7035907506942749, val 0.7579110860824585 at step 1000 \n",
      "MI for train 0.7467462420463562, val 0.7470791935920715 at step 2000 \n",
      "MI for train 0.7801331281661987, val 0.6726695895195007 at step 3000 \n",
      "Running on T 0.8\n",
      "MI for train 0.849570631980896, val 0.7243188619613647 at step 1000 \n",
      "MI for train 0.7141698002815247, val 0.6128252148628235 at step 2000 \n",
      "MI for train 0.5388470888137817, val 0.6042622923851013 at step 3000 \n",
      "Running on T 0.9\n",
      "MI for train 0.7020348906517029, val 0.6436358690261841 at step 1000 \n",
      "MI for train 0.7691821455955505, val 0.7687258720397949 at step 2000 \n",
      "MI for train 0.7041113972663879, val 0.6519030928611755 at step 3000 \n",
      "Running on T 1.0\n",
      "MI for train 0.7142524719238281, val 0.8137948513031006 at step 1000 \n",
      "MI for train 0.6042174100875854, val 0.789501965045929 at step 2000 \n",
      "MI for train 0.8399405479431152, val 0.7139590382575989 at step 3000 \n",
      "Running on T 1.1\n",
      "MI for train 0.5656699538230896, val 0.713373064994812 at step 1000 \n",
      "MI for train 0.5751819014549255, val 0.713736355304718 at step 2000 \n",
      "MI for train 0.6319940686225891, val 0.6033907532691956 at step 3000 \n",
      "Running on T 1.2\n",
      "MI for train 0.5384733080863953, val 0.6320177912712097 at step 1000 \n",
      "MI for train 0.6938305497169495, val 0.6941930651664734 at step 2000 \n",
      "MI for train 0.7359129786491394, val 0.7764152884483337 at step 3000 \n",
      "Running on T 1.3\n",
      "MI for train 0.6259106397628784, val 0.6214693784713745 at step 1000 \n",
      "MI for train 0.6240742206573486, val 0.7025175094604492 at step 2000 \n",
      "MI for train 0.8023448586463928, val 0.7468326687812805 at step 3000 \n",
      "Running on T 1.4\n",
      "MI for train 0.6994915008544922, val 0.6009871959686279 at step 1000 \n",
      "MI for train 0.6407488584518433, val 0.7016164064407349 at step 2000 \n",
      "MI for train 0.7546957731246948, val 0.6123045682907104 at step 3000 \n",
      "Running on T 1.5\n",
      "MI for train 0.6114020943641663, val 0.6723764538764954 at step 1000 \n",
      "MI for train 0.7243930101394653, val 0.7924742698669434 at step 2000 \n",
      "MI for train 0.7675934433937073, val 0.7506654858589172 at step 3000 \n",
      "Running on T 1.6\n",
      "MI for train 0.7570158243179321, val 0.7146468758583069 at step 1000 \n",
      "MI for train 0.5934103727340698, val 0.8206260204315186 at step 2000 \n",
      "MI for train 0.6830997467041016, val 0.785627007484436 at step 3000 \n",
      "Running on T 1.7\n",
      "MI for train 0.7657790780067444, val 0.7047106623649597 at step 1000 \n",
      "MI for train 0.651418149471283, val 0.9835453033447266 at step 2000 \n",
      "MI for train 0.6071375012397766, val 0.9717215299606323 at step 3000 \n",
      "Running on T 1.8\n",
      "MI for train 0.97768235206604, val 0.8942696452140808 at step 1000 \n",
      "MI for train 0.7088643908500671, val 0.75897616147995 at step 2000 \n",
      "MI for train 0.7541776895523071, val 0.751739501953125 at step 3000 \n",
      "Running on T 1.9\n",
      "MI for train 0.8132665753364563, val 0.8806600570678711 at step 1000 \n",
      "MI for train 0.7014776468276978, val 0.8440359830856323 at step 2000 \n",
      "MI for train 0.9325653314590454, val 0.6749860048294067 at step 3000 \n",
      "Running on T 2.0\n",
      "MI for train 0.8427942395210266, val 0.9481481313705444 at step 1000 \n",
      "MI for train 0.8369957804679871, val 0.514076828956604 at step 2000 \n",
      "MI for train 0.7220708131790161, val 0.9490235447883606 at step 3000 \n",
      "Running on T 2.1\n",
      "MI for train 0.8326675891876221, val 0.8379643559455872 at step 1000 \n",
      "MI for train 1.0928008556365967, val 1.0449037551879883 at step 2000 \n",
      "MI for train 1.1347014904022217, val 0.9651091694831848 at step 3000 \n",
      "Running on T 2.2\n",
      "MI for train 1.017630934715271, val 1.2897042036056519 at step 1000 \n",
      "MI for train 1.1007648706436157, val 1.1363310813903809 at step 2000 \n",
      "MI for train 1.1319093704223633, val 0.9414284825325012 at step 3000 \n",
      "Running on T 2.3\n",
      "MI for train 1.4737892150878906, val 1.5798475742340088 at step 1000 \n",
      "MI for train 1.8708940744400024, val 1.734068751335144 at step 2000 \n",
      "MI for train 1.1941875219345093, val 1.7620316743850708 at step 3000 \n",
      "Running on T 2.4\n",
      "MI for train 1.8118362426757812, val 1.1576035022735596 at step 1000 \n",
      "MI for train 1.278773307800293, val 1.7580528259277344 at step 2000 \n",
      "MI for train 0.8930715322494507, val 1.4653892517089844 at step 3000 \n",
      "Running on T 2.5\n",
      "MI for train 1.53532075881958, val 1.7571512460708618 at step 1000 \n",
      "MI for train 1.4520816802978516, val 1.1754566431045532 at step 2000 \n",
      "MI for train 1.2927472591400146, val 1.538942575454712 at step 3000 \n",
      "Running on T 2.6\n",
      "MI for train 1.8736884593963623, val 1.1510275602340698 at step 1000 \n",
      "MI for train 1.327839732170105, val 1.2263824939727783 at step 2000 \n",
      "MI for train 1.2675546407699585, val 1.393584966659546 at step 3000 \n",
      "Running on T 2.7\n",
      "MI for train 1.2782666683197021, val 1.1637179851531982 at step 1000 \n",
      "MI for train 1.2042367458343506, val 1.525294542312622 at step 2000 \n",
      "MI for train 1.5120861530303955, val 1.493147373199463 at step 3000 \n",
      "Running on T 2.8\n",
      "MI for train 1.0012505054473877, val 1.254486322402954 at step 1000 \n",
      "MI for train 0.6543640494346619, val 1.2071789503097534 at step 2000 \n",
      "MI for train 1.0562958717346191, val 1.3444409370422363 at step 3000 \n",
      "Running on T 2.9\n",
      "MI for train 0.7162901163101196, val 0.9811668992042542 at step 1000 \n",
      "MI for train 1.121824860572815, val 1.099894404411316 at step 2000 \n",
      "MI for train 1.0159153938293457, val 0.8104584217071533 at step 3000 \n",
      "Running on T 3.0\n",
      "MI for train 1.1286780834197998, val 0.911064624786377 at step 1000 \n",
      "MI for train 1.1452518701553345, val 0.9142100811004639 at step 2000 \n",
      "MI for train 1.0411341190338135, val 0.6721839904785156 at step 3000 \n",
      "Running on T 3.1\n",
      "MI for train 0.8605086803436279, val 0.6896036267280579 at step 1000 \n",
      "MI for train 0.8565472364425659, val 0.9038519859313965 at step 2000 \n",
      "MI for train 0.7818719744682312, val 0.7599306106567383 at step 3000 \n",
      "Running on T 3.2\n",
      "MI for train 0.48391568660736084, val 0.6076223850250244 at step 1000 \n",
      "MI for train 0.7352807521820068, val 0.9411565065383911 at step 2000 \n",
      "MI for train 0.7250369787216187, val 0.7991679906845093 at step 3000 \n",
      "Running on T 3.3\n",
      "MI for train 0.8015325665473938, val 0.8131911158561707 at step 1000 \n",
      "MI for train 0.5317307710647583, val 0.5438652038574219 at step 2000 \n",
      "MI for train 0.616183876991272, val 0.6535216569900513 at step 3000 \n",
      "Running on T 3.4\n",
      "MI for train 0.7707708477973938, val 0.43542370200157166 at step 1000 \n",
      "MI for train 0.6141132712364197, val 0.6096100807189941 at step 2000 \n",
      "MI for train 0.6604785919189453, val 0.5342358946800232 at step 3000 \n",
      "Running on T 3.5\n",
      "MI for train 0.5115839242935181, val 0.5594891309738159 at step 1000 \n",
      "MI for train 0.6832969784736633, val 0.5259615182876587 at step 2000 \n",
      "MI for train 0.7740452289581299, val 0.5908654928207397 at step 3000 \n",
      "Running on T 3.6\n",
      "MI for train 0.678180456161499, val 0.757972002029419 at step 1000 \n",
      "MI for train 0.6146373152732849, val 0.6367676258087158 at step 2000 \n",
      "MI for train 0.6659618020057678, val 0.7522873282432556 at step 3000 \n",
      "Running on T 3.7\n",
      "MI for train 0.5134879350662231, val 0.6913550496101379 at step 1000 \n"
     ]
    },
    {
     "name": "stdout",
     "output_type": "stream",
     "text": [
      "MI for train 0.5868449807167053, val 0.29356813430786133 at step 2000 \n",
      "MI for train 0.44389277696609497, val 0.4168452024459839 at step 3000 \n",
      "Running on T 3.8\n",
      "MI for train 0.557115912437439, val 0.5785688757896423 at step 1000 \n",
      "MI for train 0.4953981637954712, val 0.549732506275177 at step 2000 \n",
      "MI for train 0.5860500335693359, val 0.5370914936065674 at step 3000 \n",
      "Running on T 3.9\n",
      "MI for train 0.5291689038276672, val 0.5911059379577637 at step 1000 \n",
      "MI for train 0.5422639846801758, val 0.4633573293685913 at step 2000 \n",
      "MI for train 0.44144895672798157, val 0.4146757125854492 at step 3000 \n",
      "Running on T 4.0\n",
      "MI for train 0.3780159652233124, val 0.35258767008781433 at step 1000 \n",
      "MI for train 0.4095882773399353, val 0.474445104598999 at step 2000 \n",
      "MI for train 0.36764007806777954, val 0.4016689658164978 at step 3000 \n"
     ]
    }
   ],
   "source": [
    "Ts = [round(T,2) for T in np.linspace(0.1, 4, 40)]\n",
    "mi = np.zeros(len(Ts))\n",
    "\n",
    "for idx,T in enumerate(Ts):\n",
    "    print('Running on T {}'.format(T))\n",
    "    ising_matrices = get_ising_matrices(T, directory)\n",
    "    ising_matrices = np.array(ising_matrices, dtype=np.float32)\n",
    "    ising_matrices -= 0.5\n",
    "    ising_matrices *= 2\n",
    "    ising_matrices = np.concatenate([ising_matrices, np.flip(ising_matrices, axis=1), np.flip(ising_matrices, axis=2)])\n",
    "    ising_subsystems = get_all_sub_matrices(ising_matrices, subsystem_shape, step=10)\n",
    "    train_data, test_data = train_test_split(ising_subsystems)\n",
    "    result, result_val = train(train_data,mice_net,mice_net_optim, val_data=test_data, batch_size=192,\n",
    "                       iter_num=int(3e+3))\n",
    "    mi[idx] = numpy_ewma(np.array(result_val), 1000)[-1]"
   ]
  },
  {
   "cell_type": "code",
   "execution_count": 21,
   "metadata": {},
   "outputs": [
    {
     "data": {
      "text/plain": [
       "<seaborn.axisgrid.FacetGrid at 0x7f59a16a3f50>"
      ]
     },
     "execution_count": 21,
     "metadata": {},
     "output_type": "execute_result"
    },
    {
     "data": {
      "image/png": "[encoded data removed]",
      "text/plain": [
       "<Figure size 360x360 with 1 Axes>"
      ]
     },
     "metadata": {},
     "output_type": "display_data"
    }
   ],
   "source": [
    "df = pd.DataFrame({'T': Ts, 'MI': mi})\n",
    "sns.relplot(x='T', y='MI', data=df)"
   ]
  },
  {
   "cell_type": "code",
   "execution_count": null,
   "metadata": {},
   "outputs": [],
   "source": []
  }
 ],
 "metadata": {
  "kernelspec": {
   "display_name": "Python 3",
   "language": "python",
   "name": "python3"
  },
  "language_info": {
   "codemirror_mode": {
    "name": "ipython",
    "version": 3
   },
   "file_extension": ".py",
   "mimetype": "text/x-python",
   "name": "python",
   "nbconvert_exporter": "python",
   "pygments_lexer": "ipython3",
   "version": "3.7.5"
  }
 },
 "nbformat": 4,
 "nbformat_minor": 2
}
